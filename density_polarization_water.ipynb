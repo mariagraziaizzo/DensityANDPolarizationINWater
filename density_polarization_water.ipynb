{
 "cells": [
  {
   "cell_type": "markdown",
   "id": "e9ace120",
   "metadata": {},
   "source": [
    "### Water TIP4P/Ice, N = 1000"
   ]
  },
  {
   "cell_type": "code",
   "execution_count": null,
   "id": "3617d89a",
   "metadata": {},
   "outputs": [],
   "source": [
    "import pandas as pd\n",
    "import numpy as np\n",
    "import matplotlib.pyplot as plt\n",
    "import scipy as sp\n",
    "from scipy import fft\n",
    "import array as arr\n",
    "import statistics\n",
    "import seaborn as sns\n",
    "import scipy as scipy\n",
    "import scipy.fft\n",
    "from scipy.optimize import curve_fit\n",
    "from scipy.stats import norm\n",
    "from scipy import stats\n",
    "from pylab import *\n",
    "import matplotlib.pyplot as plt\n",
    "from scipy import signal\n",
    "import k3d\n",
    "from k3d.colormaps import matplotlib_color_maps\n",
    "from k3d.helpers import map_colors"
   ]
  },
  {
   "cell_type": "code",
   "execution_count": null,
   "id": "2a062d51",
   "metadata": {},
   "outputs": [],
   "source": [
    "T=190 #K\n",
    "# Conversion factors and constants:\n",
    "nm_m=1e-9 # conversion factor from nm to m\n",
    "eAng_Cm=1.60217662e-19*1e-10 # conversion factor from electron charge*Angstrom to Coulomb*m\n",
    "D_Cm=3.33584e-30 # conversion factor from Debye to C*m\n",
    "eAng_D=eAng_Cm/D_Cm # conversion factor from charge*Angstrom to Debye\n",
    "kB=8.61733326e-5 # [eV/K] Boltzmann constant\n",
    "kB_SI=1.38e-23 # [J/K] Boltzmann constant\n",
    "e_0SI=8.854e-12 # [F/m=C^2/Jm] vacuum permittivity\n",
    "J_eV=6.242e18 #conversion factor J to eV\n",
    "e_0=e_0SI/D_Cm**2/J_eV # [D^2/eVm^3] vacuum permittivity\n",
    "atm_Pa=1e5 # conversion factor from atm to Pa\n",
    "m_h2o = 18.01528 #[g/mol]\n",
    "mol=6.02214e23 # mole\n",
    "eAng_Cm=1.60217662e-19*1e-10 # conversion factor from electron charge*Angstrom to Coulomb*m\n",
    "D_Cm=3.33584e-30 # conversion factor from Debye to C*m\n",
    "dipTIP4Pice=2.426*D_Cm/eAng_Cm/10 #single-molecule dipole (e*nm) of TIP4Pice water "
   ]
  },
  {
   "cell_type": "code",
   "execution_count": null,
   "id": "98298cdc",
   "metadata": {},
   "outputs": [],
   "source": [
    "fileDensity='density.dat' #import density time series data"
   ]
  },
  {
   "cell_type": "code",
   "execution_count": null,
   "id": "23fa204f",
   "metadata": {},
   "outputs": [],
   "source": [
    "dataDensity = pd.read_csv(fileDensity,sep='\\s+').values"
   ]
  },
  {
   "cell_type": "code",
   "execution_count": null,
   "id": "1ae848a2",
   "metadata": {},
   "outputs": [],
   "source": [
    "%matplotlib notebook\n",
    "plt.figure(figsize=(16,5))\n",
    "plt.plot(dataDensity[:,0],dataDensity[:,1],'--')\n",
    "plt.xlabel(\"t (ps)\", fontsize=18)\n",
    "plt.ylabel(\"Density ($kg/m^3$)\", fontsize=18)\n",
    "plt.show()"
   ]
  },
  {
   "cell_type": "code",
   "execution_count": null,
   "id": "7a88576d",
   "metadata": {},
   "outputs": [],
   "source": [
    "fileEnergy='energy.dat' #import energy time series data"
   ]
  },
  {
   "cell_type": "code",
   "execution_count": null,
   "id": "b58f4f89",
   "metadata": {},
   "outputs": [],
   "source": [
    "dataEnergy = pd.read_csv(fileEnergy,sep='\\s+').values"
   ]
  },
  {
   "cell_type": "code",
   "execution_count": null,
   "id": "690e4179",
   "metadata": {},
   "outputs": [],
   "source": [
    "plt.figure(figsize=(16,5))\n",
    "plt.plot(dataEnergy[:,0],dataEnergy[:,1],'--')\n",
    "plt.xlabel(\"t (ps)\", fontsize=18)\n",
    "plt.ylabel(\"Energy (kJ/mol)\", fontsize=18)\n",
    "plt.show()"
   ]
  },
  {
   "cell_type": "code",
   "execution_count": null,
   "id": "750073f2",
   "metadata": {},
   "outputs": [],
   "source": [
    "filePressure='pressure.dat' #import pressure time series data"
   ]
  },
  {
   "cell_type": "code",
   "execution_count": null,
   "id": "406986ad",
   "metadata": {},
   "outputs": [],
   "source": [
    "dataPressure = pd.read_csv(filePressure,sep='\\s+').values"
   ]
  },
  {
   "cell_type": "code",
   "execution_count": null,
   "id": "15b43bf8",
   "metadata": {},
   "outputs": [],
   "source": [
    "plt.figure(figsize=(16,5))\n",
    "plt.plot(dataPressure[:,0],dataPressure[:,1],'--')\n",
    "plt.xlabel(\"t (ps)\", fontsize=18)\n",
    "plt.ylabel(\"P(bar)\", fontsize=18)\n",
    "plt.show()"
   ]
  },
  {
   "cell_type": "code",
   "execution_count": null,
   "id": "83eb4f5d",
   "metadata": {},
   "outputs": [],
   "source": [
    "fileVolume='volume.dat' #import volume time series data"
   ]
  },
  {
   "cell_type": "code",
   "execution_count": null,
   "id": "4706def8",
   "metadata": {},
   "outputs": [],
   "source": [
    "dataVolume = pd.read_csv(fileVolume,sep='\\s+').values"
   ]
  },
  {
   "cell_type": "code",
   "execution_count": null,
   "id": "8ee515f6",
   "metadata": {},
   "outputs": [],
   "source": [
    "plt.figure(figsize=(16,5))\n",
    "plt.plot(dataVolume[:,0],dataVolume[:,1],'--')\n",
    "plt.xlabel(\"t (ps)\", fontsize=18)\n",
    "plt.ylabel(\"V ($nm^3$)\", fontsize=18)\n",
    "plt.show()"
   ]
  },
  {
   "cell_type": "code",
   "execution_count": null,
   "id": "34a3e67f",
   "metadata": {},
   "outputs": [],
   "source": [
    "charge=np.zeros((4000, 1))\n",
    "nMass=np.zeros((4000, 1))"
   ]
  },
  {
   "cell_type": "code",
   "execution_count": null,
   "id": "2c9b04bc",
   "metadata": {},
   "outputs": [],
   "source": [
    "#TIP4P/Ice: q(O) = 0; q(H) = 0.5897 e; q(O) = -2q(H) = -1.1794 e\n",
    "for n in range(0,1000):\n",
    "    charge[0+4*n,0]=0\n",
    "    charge[1+4*n,0]=0.5897\n",
    "    charge[2+4*n,0]=0.5897\n",
    "    charge[3+4*n,0]=-1.1794 \n",
    "    nMass[0+4*n,0]=15.99940 #amu\n",
    "    nMass[1+4*n,0]=1.00794 #amu\n",
    "    nMass[2+4*n,0]=1.00794 #amu\n",
    "    nMass[3+4*n,0]=0 "
   ]
  },
  {
   "cell_type": "code",
   "execution_count": null,
   "id": "ecf2887a",
   "metadata": {},
   "outputs": [],
   "source": [
    "totConf = 500  # Total number of configurations (simulation time steps)"
   ]
  },
  {
   "cell_type": "code",
   "execution_count": null,
   "id": "c88e7679",
   "metadata": {},
   "outputs": [],
   "source": [
    "M = np.zeros((totConf,5))\n",
    "# M[:,0]: simulation time step (i.e., configuration index) \n",
    "# M[:,i], i=1,2,3: total polarization vector components along the Cartesian axes \n",
    "# M[:,4]: total polarization magnitude\n",
    "Msm=np.zeros((totConf,5,1000))\n",
    "# n = (0,999) is the molecule index \n",
    "# Msm[:,0,n]: simulation time step (i.e., configuration index)\n",
    "# Msm[:,i,n], i=1,2,3: dipole vector components along the Cartesian axes for the n-th molecule\n",
    "# Msm[:,4,n]: dipole magnitude for the n-th molecule\n",
    "CM=np.zeros((totConf,4,1000))\n",
    "# n = (0,999) is the molecule index \n",
    "# CM[:,0,n]: simulation time step (i.e., configuration index)\n",
    "# CM[:,i,n], i=1,2,3: spatial coordinates of the center of mass of the n-th molecule\n",
    "CMu=np.zeros((totConf,4,1000))\n",
    "CMun=np.zeros((totConf,4,1000))\n",
    "# n = (0,999) is the molecule index \n",
    "# CMun[:,0,n]: simulation time step (i.e., configuration index)\n",
    "# CMun[:,i,n], i=1,2,3: unwrapped spatial coordinates of the center of mass of the n-th molecule\n",
    "Lbox=np.zeros((totConf,3,1000))\n",
    "# simulation box size at each simulation time step\n",
    "coo=np.zeros((totConf,3,4000))\n",
    "# spatial coordinates at each simulation time step of the 4 particles (two hydrogen atoms, one oxygen atom and M-site particle) composing TIP4P/Ice water molecule for all molecules\n",
    "chargetotConf=np.zeros((totConf,4000))\n",
    "# electric charge of the 4 particles (two hydrogen atoms, one oxygen atom and M-site particle) composing TIP4P/Ice water molecule for all molecules\n",
    "nMasstotConf=np.zeros((totConf,4000))\n",
    "# atomic mass number of the 4 particles (two hydrogen atoms, one oxygen atom and M-site particle) composing TIP4P/Ice water molecule for all molecules"
   ]
  },
  {
   "cell_type": "code",
   "execution_count": null,
   "id": "887567ec",
   "metadata": {},
   "outputs": [],
   "source": [
    "for m in range(0,totConf):\n",
    "    chargetotConf[m,:]=charge[:,0]\n",
    "    nMasstotConf[m,:]=nMass[:,0]  "
   ]
  },
  {
   "cell_type": "code",
   "execution_count": null,
   "id": "296f48b8",
   "metadata": {},
   "outputs": [],
   "source": [
    "mO=15.99940 #amu\n",
    "mH=1.00794 #amu\n",
    "dOc2H = 0.9572 * np.cos(104.52 / 180 / 2 * np.pi)  # angstroms; distance between the oxygen atom and the center of mass of the two hydrogen atoms\n",
    "dOM = 0.1546  # angstroms; distance between the oxygen atom and the M-site particle\n",
    "mMcm=mO*(dOc2H-dOM)/dOc2H/(mO+2*mH)"
   ]
  },
  {
   "cell_type": "code",
   "execution_count": null,
   "id": "9200d2ae",
   "metadata": {},
   "outputs": [],
   "source": [
    "for i in range(1,totConf+1):\n",
    "    M[i-1,0]=i*8*10000\n",
    "    filename='CONFS/CnfT190t' + str(i*8) + '0000'\n",
    "    globals()['data%s' % str(i*8) + '0000']=pd.read_csv(filename,sep='\\s+',header=None,skiprows=2).values \n",
    "    L=float(globals()['data%s' % str(i*8) + '0000'][4000,1])\n",
    "    for l in range(0,1000):\n",
    "        for n in range(1,4):\n",
    "        # Unwrap atom coordinates if necessary to compute individual molecule dipoles. \n",
    "        # Note: this does not unwrap the center of mass coordinates.\n",
    "            cooO=globals()['data%s' % str(i*8) + '0000'][4*l,2+n] \n",
    "            cooM=globals()['data%s' % str(i*8) + '0000'][4*l+3,2+n]\n",
    "            if abs(globals()['data%s' % str(i*8) + '0000'][4*l+3,2+n]-globals()['data%s' % str(i*8) + '0000'][4*l+1,2+n])<=0.1:\n",
    "                cooH1=globals()['data%s' % str(i*8) + '0000'][4*l+1,2+n]\n",
    "            elif globals()['data%s' % str(i*8) + '0000'][4*l+1,2+n]<globals()['data%s' % str(i*8) + '0000'][4*l+3,2+n]:\n",
    "                cooH1=globals()['data%s' % str(i*8) + '0000'][4*l+1,2+n]+L\n",
    "            else:\n",
    "                cooH1=globals()['data%s' % str(i*8) + '0000'][4*l+1,2+n]-L\n",
    "            if  abs(globals()['data%s' % str(i*8) + '0000'][4*l+3,2+n]-globals()['data%s' % str(i*8) + '0000'][4*l+2,2+n])<=0.1:\n",
    "                cooH2=globals()['data%s' % str(i*8) + '0000'][4*l+2,2+n]                \n",
    "            elif globals()['data%s' % str(i*8) + '0000'][4*l+2,2+n]<globals()['data%s' % str(i*8) + '0000'][4*l+3,2+n]: \n",
    "                cooH2=globals()['data%s' % str(i*8) + '0000'][4*l+2,2+n]+L\n",
    "            else:\n",
    "                cooH2=globals()['data%s' % str(i*8) + '0000'][4*l+2,2+n]-L\n",
    "            Msm[i-1,n,l] = cooM*charge[4*l+3,0]+cooH1*charge[4*l+1,0]+cooH2*charge[4*l+2,0]\n",
    "            CM[i-1,n,l] = (cooM*mMcm+cooH1*mH+cooH2*mH)/(mMcm+mH+mH)\n",
    "            Lbox[i-1,n-1,l]=L\n",
    "            # Unwrap center of mass molecules coordinates if necessary\n",
    "            CMu[0,n,l] = CM[0,n,l]\n",
    "            CMun[0,n,l] = CM[0,n,l]-L/2\n",
    "            if i>1:\n",
    "                CMu[i-1,n,l] = CM[i-1,n,l]-floor((CM[i-1,n,l]-CMu[i-2,n,l])/L+0.5)*L\n",
    "                CMun[i-1,n,l]=CMu[i-1,n,l]-L/2\n",
    "            coo[i-1,n-1,4*l] = cooO\n",
    "            coo[i-1,n-1,4*l+1] = cooH1\n",
    "            coo[i-1,n-1,4*l+2] = cooH2\n",
    "            coo[i-1,n-1,4*l+3] = cooM\n",
    "        Msm[i-1,4,l]=(Msm[i-1,1,l]**2+Msm[i-1,2,l]**2+Msm[i-1,3,l]**2)**0.5  \n",
    "    M[i-1,1]=sum(Msm[i-1,1,:])\n",
    "    M[i-1,2]=sum(Msm[i-1,2,:])\n",
    "    M[i-1,3]=sum(Msm[i-1,3,:])\n",
    "    M[i-1,4]=(M[i-1,1]**2+M[i-1,2]**2+M[i-1,3]**2)**0.5"
   ]
  },
  {
   "cell_type": "markdown",
   "id": "e2b4163c",
   "metadata": {},
   "source": [
    "### Plot the spatial distribution of molecular dipoles in Cartesian coordinates."
   ]
  },
  {
   "cell_type": "code",
   "execution_count": null,
   "id": "ec74c29a",
   "metadata": {},
   "outputs": [],
   "source": [
    "CMTOT=np.zeros((3,totConf))\n",
    "for i in range(1,totConf):\n",
    "    CMTOT[:,i]=sum(CMu[i,1:,:],axis=1)/1000"
   ]
  },
  {
   "cell_type": "code",
   "execution_count": null,
   "id": "74662c4d",
   "metadata": {},
   "outputs": [],
   "source": [
    "c=250 #select configuration"
   ]
  },
  {
   "cell_type": "code",
   "execution_count": null,
   "id": "e37fba90",
   "metadata": {},
   "outputs": [],
   "source": [
    "# Dipoles are represented by arrows here.\n",
    "\n",
    "# Initialize a 3D plot\n",
    "plot = k3d.plot(camera_auto_fit=False)\n",
    "\n",
    "# Set scaling factor for molecular dipole length to improve visualization\n",
    "s0 = 0.1 \n",
    "\n",
    "# Loop through each dipole to add them as vectors in the plot\n",
    "for l in range(0, 999):\n",
    "    # Define a vector for each dipole based on its position and scaled direction\n",
    "    line = k3d.vectors(\n",
    "        [CMu[c, 1, l], CMu[c, 2, l], CMu[c, 3, l]],  # Starting point (position) of the dipole\n",
    "        [s0 * Msm[c, 1, l] / Msm[c, 4, l],           # Scaled x-component of the dipole vector\n",
    "         s0 * Msm[c, 2, l] / Msm[c, 4, l],           # Scaled y-component of the dipole vector\n",
    "         s0 * Msm[c, 3, l] / Msm[c, 4, l]],          # Scaled z-component of the dipole vector\n",
    "        line_size=0.1,                               \n",
    "        color_map=k3d.basic_color_maps.Jet           \n",
    "    )\n",
    "    plot += line  # Add each vector to the plot\n",
    "\n",
    "# Define a larger scaling factor for visualizing the total polarization vector\n",
    "s1 = 10  \n",
    "\n",
    "# Plot the center of mass of the entire system as a red point\n",
    "pointCM = k3d.points(\n",
    "    positions=[CMTOT[0, c], CMTOT[1, c], CMTOT[2, c]],  # Coordinates of the center of mass\n",
    "    point_size=0.1,                                     \n",
    "    shader='3d',                                        \n",
    "    color=0xFF0000                                      \n",
    ")\n",
    "\n",
    "# Define a vector for the total polarization at the center of mass\n",
    "lineCM = k3d.vectors(\n",
    "    [CMTOT[0, c], CMTOT[1, c], CMTOT[2, c]],             # Starting point at the center of mass\n",
    "    [s1 * M[c, 1] / M[c, 4],                             # Scaled x-component of polarization vector\n",
    "     s1 * M[c, 2] / M[c, 4],                             # Scaled y-component of polarization vector\n",
    "     s1 * M[c, 3] / M[c, 4]],                            # Scaled z-component of polarization vector\n",
    "    line_size=5,                                         \n",
    "    color=0xFF0000                                       # Set color to red\n",
    ")\n",
    "\n",
    "# Display the 3D plot\n",
    "plot.display()"
   ]
  },
  {
   "cell_type": "code",
   "execution_count": null,
   "id": "42ec18ee",
   "metadata": {},
   "outputs": [],
   "source": [
    "#The color map of the points represents here the projection of each dipole along the direction of the total polarization.\n",
    "# Initialize arrays for attributes and positions\n",
    "attr = np.zeros(1000)   # Array to store calculated attributes for each point\n",
    "x = np.zeros((1000, 3)) # Array to store 3D coordinates for each point\n",
    "\n",
    "# Loop over each point to extract positions and calculate attributes\n",
    "for l in range(0, 1000): \n",
    "    # Extract 3D coordinates from CM array for point `l`\n",
    "    for n in range(0, 3):\n",
    "        x[l, n] = CM[c, n + 1, l]   # Position coordinates\n",
    "\n",
    "    # Calculate the attribute value for each point `l` based on specific ratios\n",
    "    attr[l] = (\n",
    "        (Msm[c, 1, l] / Msm[c, 4, l]) * (M[c, 1] / M[c, 4]) +\n",
    "        (Msm[c, 2, l] / Msm[c, 4, l]) * (M[c, 2] / M[c, 4]) +\n",
    "        (Msm[c, 3, l] / Msm[c, 4, l]) * (M[c, 3] / M[c, 4])\n",
    "    )\n",
    "\n",
    "# Initialize a 3D plot in k3d\n",
    "plot2 = k3d.plot()\n",
    "\n",
    "# Create points for the plot with attributes and a color map\n",
    "# Set color map to Viridis and map colors to the attribute range\n",
    "points = k3d.points(\n",
    "    positions=x,                   # Use positions array for point coordinates\n",
    "    point_size=0.2,                \n",
    "    shader='3d',                   \n",
    "    color_map=matplotlib_color_maps.Viridis,  \n",
    "    color_range=[attr.min(), attr.max()]      \n",
    ")\n",
    "points.attribute = attr  # Assign the attribute values to the points for color mapping\n",
    "\n",
    "# Add points to the plot and display it\n",
    "plot2 += points\n",
    "plot2.display()"
   ]
  },
  {
   "cell_type": "code",
   "execution_count": null,
   "id": "3a950072",
   "metadata": {},
   "outputs": [],
   "source": [
    "# Plotting the distribution of the projection of each dipole along the direction of the total polarization.\n",
    "# Create a histogram with KDE (density line)\n",
    "plt = sns.histplot(attr, bins=100, kde=False, color='grey', stat=\"density\") \n",
    "sns.kdeplot(attr, color='black', linewidth=2)  # Add a black KDE line \n",
    "#\n",
    "plt.set_xlabel('$\\mathbf{d}_i \\cdot \\hat{p}$', fontsize=28)  \n",
    "plt.set_ylabel('Frequency', fontsize=28)  \n",
    "#\n",
    "plt.tick_params(axis='both', which='major', labelsize=28, length=10, width=2, color='black')  \n",
    "plt.tick_params(axis='both', which='minor', length=7, width=1)  \n",
    "#\n",
    "plt.minorticks_on()"
   ]
  },
  {
   "cell_type": "code",
   "execution_count": null,
   "id": "d38a6b8c",
   "metadata": {},
   "outputs": [],
   "source": [
    "Lu = np.max(CMu[c, :, :])  \n",
    "\n",
    "# Define grid parameters for dividing the spatial domain into cells\n",
    "n_cell = 3  # Number of cells along each dimension\n",
    "CM_cell = np.zeros((n_cell, n_cell, n_cell, 3))  # Array to store center of mass for each cell\n",
    "Msm_cell = np.zeros((n_cell, n_cell, n_cell, 3))  # Array to store polarization vector for each cell\n",
    "count = np.zeros((n_cell, n_cell, n_cell, 1))  # Counter to track the number of entries per cell\n",
    "\n",
    "# Loop to assign values in cells\n",
    "for nx in range(n_cell):\n",
    "    for ny in range(n_cell):\n",
    "        for nz in range(n_cell):\n",
    "            for l in range(1000):\n",
    "                if (nx * Lu / n_cell <= CMu[c, 1, l] < (nx + 1) * Lu / n_cell and\n",
    "                    ny * Lu / n_cell <= CMu[c, 2, l] < (ny + 1) * Lu / n_cell and\n",
    "                    nz * Lu / n_cell <= CMu[c, 3, l] < (nz + 1) * Lu / n_cell):    \n",
    "                    count[nx, ny, nz] += 1  \n",
    "                    CM_cell[nx, ny, nz, :] += CMu[c, 1:4, l]  \n",
    "                    Msm_cell[nx, ny, nz, :] += Msm[c, 1:4, l] \n",
    "            # Compute the average values in the cell, adding a small epsilon for stability\n",
    "            CM_cell[nx, ny, nz, :] /= (count[nx, ny, nz] + 1e-6)\n",
    "\n",
    "# Reshape CM and Msm matrices into 1D arrays for easy indexing\n",
    "CM_cell = CM_cell.reshape((n_cell**3, 3))\n",
    "Msm_cell = Msm_cell.reshape((n_cell**3, 3))\n",
    "\n",
    "# Apply a mask to filter out zero rows in CM_cell and apply the same to Msm_cell\n",
    "mask = np.all(CM_cell != 0, axis=1)\n",
    "CM_cell = CM_cell[mask]\n",
    "Msm_cell = Msm_cell[mask]\n",
    "\n",
    "# Calculate the magnitude of each vector in Msm_cell\n",
    "Msm_cellMod = np.linalg.norm(Msm_cell, axis=1)"
   ]
  },
  {
   "cell_type": "code",
   "execution_count": null,
   "id": "d149e2c2",
   "metadata": {},
   "outputs": [],
   "source": [
    "# initialize arrays \n",
    "Msm_cellPN = np.zeros_like(Msm_cell)\n",
    "Msm_cellModPN = np.zeros(Msm_cell.shape[0])\n",
    "\n",
    "for l in range(Msm_cell.shape[0]): \n",
    "    for i in range(3):\n",
    "        # Compute the projection of MsM_cell onto the plane orthogonal to the total polarization direction.\n",
    "        Msm_cellPN[l, i] = Msm_cell[l, i] / Msm_cellMod[l] - (Msm_cell[l, i] / Msm_cellMod[l]) * (M[c, i + 1] / M[c, 4])\n",
    "    \n",
    "    # Calculate the magnitude of Msm_cell\n",
    "    Msm_cellModPN[l] = np.linalg.norm(Msm_cellPN[l, :])\n",
    "\n",
    "# Compute the average of Msm_cell over cells\n",
    "Msm_cellPNav = np.mean(Msm_cellPN, axis=0)\n",
    "\n",
    "# Calculate the magnitude of the averaged Msm_cell\n",
    "Msm_cellPNavMod = np.linalg.norm(Msm_cellPNav)"
   ]
  },
  {
   "cell_type": "code",
   "execution_count": null,
   "id": "6846611e",
   "metadata": {},
   "outputs": [],
   "source": [
    "subplot\n",
    "plot1cellN = k3d.plot()  \n",
    "plot1cellN.display()  \n",
    "\n",
    "# Initialize attributes and positions\n",
    "attr = np.zeros(CM_cell[:, 0].size)  # Array to store computed attributes\n",
    "x = np.zeros((CM_cell[:, 0].size, 3))  # Array to store positions of points\n",
    "\n",
    "# Iterate over each cell to calculate attributes and positions\n",
    "for l in range(0,CM_cell[:,0].size): \n",
    "    for n in range(0,3):\n",
    "        x[l,n]=CM_cell[l,n] # Assign position from CM_cell\n",
    "    attr[l]=(Msm_cell[l,0]/Msm_cellMod[l])*(M[c,1]/M[c,4])+(Msm_cell[l,1]/Msm_cellMod[l])*(M[c,2]/M[c,4])+(Msm_cell[l,2]/Msm_cellMod[l])*(M[c,3]/M[c,4]) # the attribute is the projection of Msm_cell onto the direction of the total polarization vector\n",
    "points = k3d.points(\n",
    "    positions=x,\n",
    "    point_size=0.4,\n",
    "    shader='3d',\n",
    "    color_map=matplotlib_color_maps.Viridis,  \n",
    "    color_range=[attr.min(), attr.max()]  \n",
    ")\n",
    "points.attribute=attr\n",
    "plot1cellN += points\n",
    "\n",
    "for l in range(0,CM_cell[:,0].size): \n",
    "    line = k3d.vectors([CM_cell[l,0],CM_cell[l,1],CM_cell[l,2]],[((Msm_cell[l,0]/Msm_cellMod[l])*(M[c,1]/M[c,4])+(Msm_cell[l,1]/Msm_cellMod[l])*(M[c,2]/M[c,4])+(Msm_cell[l,2]/Msm_cellMod[l])*(M[c,3]/M[c,4]))*(M[c,1]/M[c,4]),((Msm_cell[l,0]/Msm_cellMod[l])*(M[c,1]/M[c,4])+(Msm_cell[l,1]/Msm_cellMod[l])*(M[c,2]/M[c,4])+(Msm_cell[l,2]/Msm_cellMod[l])*(M[c,3]/M[c,4]))*(M[c,2]/M[c,4]),((Msm_cell[l,0]/Msm_cellMod[l])*(M[c,1]/M[c,4])+(Msm_cell[l,1]/Msm_cellMod[l])*(M[c,2]/M[c,4])+(Msm_cell[l,2]/Msm_cellMod[l])*(M[c,3]/M[c,4]))*(M[c,3]/M[c,4])],line_width=0.02,head_size=1) #the arrows represent the projection of Msm_cell onto the direction of the total polarization vector\n",
    "    plot1cellN += line\n",
    "    \n",
    "lineCM = k3d.vectors([CMTOT[0,c], CMTOT[1,c], CMTOT[2,c]], \n",
    "                     [M[c,1] / M[c,4], M[c,2] / M[c,4], M[c,3] / M[c,4]], \n",
    "                     line_size=5, color=0xFF0000,line_width=0.05,head_size=2)  \n",
    "pointCM = k3d.points(positions=[CMTOT[0,c], CMTOT[1,c], CMTOT[2,c]], \n",
    "                     point_size=0.1, \n",
    "                     shader='3d', \n",
    "                     color=0xFF0000)  \n",
    "plot1cellN += pointCM\n",
    "plot1cellN += lineCM\n",
    "\n",
    "subplot\n",
    "plot1cellPN=k3d.plot()\n",
    "plot1cellPN.display()\n",
    "attr=np.zeros(CM_cell[:,0].size)\n",
    "x=np.zeros((CM_cell[:,0].size,3))\n",
    "\n",
    "for l in range(0,CM_cell[:,0].size): \n",
    "    for n in range(0,3):\n",
    "        x[l,n]=CM_cell[l,n] # Assign position from CM_cell\n",
    "    attr[l]=((Msm_cell[1,0]/Msm_cellMod[1]-(Msm_cell[1,0]/Msm_cellMod[1])*(M[c,1]/M[c,4]))*(Msm_cell[l,0]/Msm_cellMod[l]-(Msm_cell[l,0]/Msm_cellMod[l])*(M[c,1]/M[c,4]))+(Msm_cell[1,1]/Msm_cellMod[1]-(Msm_cell[1,1]/Msm_cellMod[1])*(M[c,2]/M[c,4]))*(Msm_cell[l,1]/Msm_cellMod[l]-(Msm_cell[l,1]/Msm_cellMod[l])*(M[c,2]/M[c,4]))+(Msm_cell[1,2]/Msm_cellMod[1]-(Msm_cell[1,2]/Msm_cellMod[1])*(M[c,3]/M[c,4]))*(Msm_cell[l,2]/Msm_cellMod[l]-(Msm_cell[l,2]/Msm_cellMod[l])*(M[c,3]/M[c,4])))/Msm_cellModPN[1]/Msm_cellModPN[l] #attribute here is the projection of Msm_cell onto the plane orthogonal to the direction of the total polarization vector\n",
    "\n",
    "points = k3d.points(\n",
    "    positions=x,\n",
    "    point_size=0.4,\n",
    "    shader='3d',\n",
    "    color_map=matplotlib_color_maps.Viridis,  \n",
    "    color_range=[attr.min(), attr.max()]  \n",
    ")\n",
    "points.attribute=attr\n",
    "plot1cellPN += points\n",
    "for l in range(0,CM_cell[:,0].size): \n",
    "    line = k3d.vectors([CM_cell[l,0],CM_cell[l,1],CM_cell[l,2]],[Msm_cell[l,0]/Msm_cellMod[l]-(Msm_cell[l,0]/Msm_cellMod[l])*(M[250,1]/M[250,4]),Msm_cell[l,1]/Msm_cellMod[l]-(Msm_cell[l,1]/Msm_cellMod[l])*(M[250,2]/M[250,4]),Msm_cell[l,2]/Msm_cellMod[l]-(Msm_cell[l,2]/Msm_cellMod[l])*(M[250,3]/M[250,4])],line_size=0.2,line_width=0.02,head_size=1) #arrows represent the projection of Msm_cell onto the plane orthogonal to the total polarization vector.\n",
    "    plot1cellPN += line\n",
    "lineCM = k3d.vectors([CMTOT[0,c], CMTOT[1,c], CMTOT[2,c]], \n",
    "                     [M[c,1] / M[c,4], M[c,2] / M[c,4], M[c,3] / M[c,4]], \n",
    "                     line_size=5, color=0xFF0000,line_width=0.05,head_size=2) \n",
    "pointCM = k3d.points(positions=[CMTOT[0,c], CMTOT[1,c], CMTOT[2,c]], \n",
    "                     point_size=0.1, \n",
    "                     shader='3d', \n",
    "                     color=0xFF0000)\n",
    "plot1cellPN += pointCM\n",
    "plot1cellPN += lineCM"
   ]
  },
  {
   "cell_type": "code",
   "execution_count": null,
   "id": "0d4229d9",
   "metadata": {},
   "outputs": [],
   "source": [
    "#Reduced time series of density, volume and energy where only the value at the same time step where the polarization is computed are selected  \n",
    "dataDensity0000 = np.zeros((totConf-1,2))\n",
    "dataVolume0000 = np.zeros((totConf-1,2))\n",
    "dataEnergy0000 = np.zeros((totConf-1,2))"
   ]
  },
  {
   "cell_type": "code",
   "execution_count": null,
   "id": "ad9725ef",
   "metadata": {},
   "outputs": [],
   "source": [
    "for i in range(0,totConf-1): \n",
    "    dataDensity0000[i,0]=dataDensity[(i+1)*499+i,0]\n",
    "    dataDensity0000[i,1]=dataDensity[(i+1)*499+i,1]\n",
    "    dataVolume0000[i,0]=dataVolume[(i+1)*499+i,0]\n",
    "    dataVolume0000[i,1]=dataVolume[(i+1)*499+i,1]\n",
    "    dataEnergy0000[i,0]=dataEnergy[(i+1)*499+i,0]\n",
    "    dataEnergy0000[i,1]=dataEnergy[(i+1)*499+i,1]"
   ]
  },
  {
   "cell_type": "markdown",
   "id": "03077609",
   "metadata": {},
   "source": [
    "### Compute $\\epsilon_0$, $k_T$, $U_L$, $\\langle \\rho \\rangle$."
   ]
  },
  {
   "cell_type": "code",
   "execution_count": null,
   "id": "9520bccb",
   "metadata": {},
   "outputs": [],
   "source": [
    "V_mean = statistics.mean(dataVolume[:,1])*nm_m**3"
   ]
  },
  {
   "cell_type": "code",
   "execution_count": null,
   "id": "0886f4c5",
   "metadata": {},
   "outputs": [],
   "source": [
    "for i in range (1,4):\n",
    "    M[:,i]=M[:,i]*10*eAng_D"
   ]
  },
  {
   "cell_type": "code",
   "execution_count": null,
   "id": "7ab64ab4",
   "metadata": {},
   "outputs": [],
   "source": [
    "M[:,4]=M[:,4]*10*eAng_D"
   ]
  },
  {
   "cell_type": "markdown",
   "id": "a95aab9c",
   "metadata": {},
   "source": [
    "#### Dielectric constant ($\\epsilon_0$)"
   ]
  },
  {
   "cell_type": "code",
   "execution_count": null,
   "id": "b056236c",
   "metadata": {},
   "outputs": [],
   "source": [
    "# Total number of timesteps\n",
    "Nt = len(M[:, 0])                                    \n",
    "\n",
    "# Define the range of block sizes\n",
    "minBlockSize = 4                                     # Minimum block size: at least 1 observation per block\n",
    "maxBlockSize = int(Nt / 4)                           # Maximum block size: ensures at least 4 blocks for variance computation\n",
    "NumBlocks = maxBlockSize - minBlockSize              # Total number of block sizes \n",
    "\n",
    "# Initialize arrays to store results\n",
    "blockMeanVarM = np.zeros([3, NumBlocks])             \n",
    "blockVarVarM = np.zeros([3, NumBlocks])              \n",
    "blockCtr = 0                                         # Counter for block sizes\n",
    "\n",
    "# Iterate through block sizes\n",
    "for blockSize in range(minBlockSize, maxBlockSize):\n",
    "    Nblock = int(Nt / blockSize)                     \n",
    "    M_varblock = np.zeros([3, Nblock])               \n",
    "    \n",
    "\n",
    "    for i in range(1, Nblock + 1):                  \n",
    "        ibeg = (i-1)*blockSize                       # Start index of the block\n",
    "        iend = ibeg+blockSize                        # End index of the block\n",
    "        \n",
    "        # Calculate variance in the block for each polarization component\n",
    "        for n in range(1, 4):                       \n",
    "            M_varblock[n - 1, i - 1] = statistics.variance(M[ibeg:iend, n])\n",
    "    \n",
    "    # Calculate mean and variance of block polarization variances\n",
    "    for m in range(1, 4):                           \n",
    "        blockMeanVarM[m - 1, blockCtr] = statistics.mean(M_varblock[m - 1, :])\n",
    "        blockVarVarM[m - 1, blockCtr] = statistics.variance(M_varblock[m - 1, :]) / (Nblock - 1)\n",
    "    \n",
    "    # Increment block size counter\n",
    "    blockCtr += 1"
   ]
  },
  {
   "cell_type": "code",
   "execution_count": null,
   "id": "e649d899",
   "metadata": {},
   "outputs": [],
   "source": [
    "e0_block=1+sum(blockMeanVarM[:,:],axis=0)/(3*e_0*V_mean*kB*T)\n",
    "de0_block=np.sqrt(blockVarVarM[0,:]+blockVarVarM[1,:]+blockVarVarM[2,:])/(3*e_0*V_mean*kB*T)"
   ]
  },
  {
   "cell_type": "code",
   "execution_count": null,
   "id": "82b936fc",
   "metadata": {},
   "outputs": [],
   "source": [
    "e0 = statistics.mean(e0_block[#x:#y]) #fill with the proper x,y\n",
    "de0 = statistics.mean(de0_block[#x:#y]) #fill with the proper x,y\n",
    "print('Static dielectric permittivity e0=', e0, '+/-', de0)"
   ]
  },
  {
   "cell_type": "markdown",
   "id": "d5120dbb",
   "metadata": {},
   "source": [
    "#### Isothermal compressibility ($k_T$)"
   ]
  },
  {
   "cell_type": "code",
   "execution_count": null,
   "id": "b36a3eeb",
   "metadata": {},
   "outputs": [],
   "source": [
    "# Total number of timesteps\n",
    "Nt= len(dataVolume[:,0])                           \n",
    "\n",
    "# Initialize arrays to store results\n",
    "blockMeanVarV = np.zeros([1,NumBlocks])            \n",
    "blockVarVarV  = np.zeros([1,NumBlocks])            \n",
    "blockCtr   = 0                             # Counter for block sizes\n",
    "\n",
    "# Iterate through block sizes\n",
    "for blockSize in range(minBlockSize, maxBlockSize):\n",
    "    Nblock    = int(Nt/blockSize)                  \n",
    "    V_varblock    = np.zeros([1,Nblock])  \n",
    "    \n",
    "    for i in range(1,Nblock+1):                    \n",
    "        ibeg = (i-1) * blockSize\n",
    "        iend =  ibeg + blockSize\n",
    "        # Calculate variance in the block for volume\n",
    "        V_varblock[0,i-1] = statistics.variance(nm_m**3*dataVolume[ibeg:iend,n])\n",
    "    # Calculate mean and variance of block polarization variances\n",
    "    blockMeanVarV[0,blockCtr] = statistics.mean(V_varblock[m-1,:])\n",
    "    blockVarVarV[0,blockCtr]  = statistics.variance(V_varblock[m-1,:])/(Nblock - 1)\n",
    "    blockCtr += 1"
   ]
  },
  {
   "cell_type": "code",
   "execution_count": null,
   "id": "a2be4840",
   "metadata": {},
   "outputs": [],
   "source": [
    "kT_block=(blockMeanVarV[0,:])/(V_mean*kB_SI*T) # Pa^-1 m^3/J\n",
    "dkT_block=np.sqrt(blockVarVarV[0,:])/(V_mean*kB_SI*T) # Pa^-1 m^3/J"
   ]
  },
  {
   "cell_type": "code",
   "execution_count": null,
   "id": "42324294",
   "metadata": {},
   "outputs": [],
   "source": [
    "kT = statistics.mean(kT_block[#x:#y]) #fill with the proper x,y\n",
    "dkT = statistics.mean(dkT_block[#x:#y])\n",
    "print('isothermal compressibility=', kT, '+/-', dkT, '$Pa^{-1}$')"
   ]
  },
  {
   "cell_type": "markdown",
   "id": "78969da9",
   "metadata": {},
   "source": [
    "#### Follow the same procedure for calculating the 4th-order Binder ($U_L$) cumulant and the average density ($\\langle \\rho \\rangle$)."
   ]
  },
  {
   "cell_type": "markdown",
   "id": "f0efb003",
   "metadata": {},
   "source": [
    "### Compute intermediate scattering functions $C(k,t)$ of density and polarization fluctuations."
   ]
  },
  {
   "cell_type": "code",
   "execution_count": null,
   "id": "247bfc43",
   "metadata": {},
   "outputs": [],
   "source": [
    "L=np.mean(Lbox) #averaged box size"
   ]
  },
  {
   "cell_type": "code",
   "execution_count": null,
   "id": "06163bf2",
   "metadata": {},
   "outputs": [],
   "source": [
    "nk = np.arange(0,20,1)"
   ]
  },
  {
   "cell_type": "code",
   "execution_count": null,
   "id": "af6fc678",
   "metadata": {},
   "outputs": [],
   "source": [
    "#Create wavevector components (kx,ky,kz) along the three Cartesian axes: x, y, and z\n",
    "k = nk*2*np.pi/L\n",
    "kx = ky= kz = k"
   ]
  },
  {
   "cell_type": "code",
   "execution_count": null,
   "id": "30a95514",
   "metadata": {},
   "outputs": [],
   "source": [
    "Msm_av = np.zeros((totConf, 4, 1000))\n",
    "Msm_avm = np.zeros((totConf, 4, 1000))\n",
    "#\n",
    "for comp in range(1, 4):\n",
    "    Msm_av[:, comp, :] = np.mean(Msm[:, comp, :], axis=(0, 1), keepdims=True) # Molecular dipole averaged over all molecules and time\n",
    "    Msm_avm[:, comp, :] = np.mean(Msm[:, comp, :], axis=0) # Single molecular dipole averaged over time "
   ]
  },
  {
   "cell_type": "code",
   "execution_count": null,
   "id": "67b2ee18",
   "metadata": {},
   "outputs": [],
   "source": [
    "c_kt = np.zeros((k.size**3, totConf), dtype=complex) #charge density at wavevector (kx,ky,kz)\n",
    "m0_kt = np.zeros((k.size**3, 3, totConf), dtype=complex) #dipole moment at wavevector (kx,ky,kz)\n",
    "m_kt = np.zeros((k.size**3, 3, totConf), dtype=complex) #dipole moment fluctuations with respect to Msm_av at wavevector (kx,ky,kz)\n",
    "mm_kt = np.zeros((k.size**3, 3, totConf), dtype=complex)  #dipole moment fluctuations with respect to Msm_avm at wavevector (kx,ky,kz)\n",
    "m_ktLongm = np.zeros((k.size**3, totConf), dtype=complex) #projection of dipole moment fluctuations m_kt along the direction parallel to the total average polarization at wavevector (kx,ky,kz)\n",
    "m_ktTram = np.zeros((k.size**3, 3, totConf), dtype=complex) #projection of dipole moment fluctuations m_kt in the direction orthogonal to the total average polarization at wavevector (kx,ky,kz) \n",
    "nCM_kt = np.zeros((k.size**3, totConf), dtype=complex) #particles number density at wavevector (kx,ky,kz)\n",
    "m_ktTra = np.zeros((k.size**3, 3, totConf), dtype=complex) #dipole moment in the direction orthogonal to the average total polarization at wavevector (kx,ky,kz)\n",
    "k_mod = np.zeros((k.size**3)) #magnitude of the wavevector (kx,ky,kz) \n",
    "#\n",
    "def exp_sum(k_n, k_m, k_l, CM, Lbox, factor):\n",
    "    return np.sum(np.exp(1j * (k_n * CM[:, 1, :] * L / Lbox[:, 1, :] +\n",
    "                               k_m * CM[:, 2, :] * L / Lbox[:, 1, :] +\n",
    "                               k_l * CM[:, 3, :] * L / Lbox[:, 1, :])) * factor, axis=1)\n",
    "#\n",
    "for n, k_n in enumerate(kx):\n",
    "    for m, k_m in enumerate(ky):\n",
    "        for l, k_l in enumerate(kz):\n",
    "            idx = n * k.size**2 + m * k.size + l\n",
    "            k_mod[idx] = np.sqrt(k_n**2 + k_m**2 + k_l**2)  # nm^-1\n",
    "            c_kt[n*k.size**2+m*k.size+l,:] = np.sum(np.exp(1j*(kx[n]*coo[:,0,:]+ky[m]*coo[:,1,:]+kz[l]*coo[:,2,:]))*chargetotConf[:,:], axis = 1) # eV\n",
    "            nCM_kt[idx, :] = exp_sum(k_n, k_m, k_l, CM, Lbox, 1)\n",
    "            for comp in range(3):\n",
    "                m0_kt[idx, comp, :] = exp_sum(k_n, k_m, k_l, CM, Lbox, Msm[:, comp+1, :])\n",
    "                factor_1 = Msm[:, comp + 1, :] - Msm_av[:, comp + 1, :]\n",
    "                m_kt[idx, comp, :] = exp_sum(k_n, k_m, k_l, CM, Lbox, factor_1)\n",
    "                factor_2 = Msm[:, comp + 1, :] - Msm_avm[:, comp + 1, :]\n",
    "                mm_kt[idx, comp, :] = exp_sum(k_n, k_m, k_l, CM, Lbox, factor_2)\n",
    "            #\n",
    "            m_ktLongm[idx, :] = np.sum(m_kt[idx, i, :] * (np.mean(M[:,i+1]) / np.mean(M[:,4])) for i in range(3))    \n",
    "            #\n",
    "            k_vec = np.array([k_n, k_m, k_l]) / k_mod[idx]\n",
    "            m_ktTra[idx, :, :] = np.cross(k_vec[:, np.newaxis], m0_kt[idx, :, :], axis=0)\n",
    "            #\n",
    "            M_mean_vec = np.mean(M[:, 1:4], axis=0) / np.mean(M[:, 4])\n",
    "            m_ktTram[idx, :, :] = np.cross(M_mean_vec[:, np.newaxis], m_kt[idx, :, :], axis=0)"
   ]
  },
  {
   "cell_type": "code",
   "execution_count": null,
   "id": "8896856c",
   "metadata": {},
   "outputs": [],
   "source": [
    "delta_k=np.zeros((k_mod.size,totConf))\n",
    "delta_k[0,:]=1\n",
    "nCM_kt=nCM_kt-1000*delta_k"
   ]
  },
  {
   "cell_type": "code",
   "execution_count": null,
   "id": "5d52bb3c",
   "metadata": {},
   "outputs": [],
   "source": [
    "plt.figure(figsize=(10,5))\n",
    "plt.plot(k_mod,'+')\n",
    "plt.xlabel(\"n_sort\", fontsize=20)\n",
    "plt.ylabel(\"|$\\\\bf{k}$|[$nm^{-1}$]\", fontsize=20)\n",
    "plt.title('k_mod ', fontdict=None, loc='center', pad=None)\n",
    "plt.show()"
   ]
  },
  {
   "cell_type": "code",
   "execution_count": null,
   "id": "e9184286",
   "metadata": {},
   "outputs": [],
   "source": [
    "k_mod_eq=np.zeros((k_mod.size,k_mod.size))"
   ]
  },
  {
   "cell_type": "code",
   "execution_count": null,
   "id": "f63ec69d",
   "metadata": {},
   "outputs": [],
   "source": [
    "#Identifying wavectors with the same magnitude within a tollerance of 1.8\n",
    "for i in range (0,k_mod.size):\n",
    "    modk=k_mod[i]\n",
    "    for n in range (0,k_mod.size):\n",
    "        if modk-1.8<k_mod[n]<modk+1.8:\n",
    "            k_mod_eq[i,n]=1"
   ]
  },
  {
   "cell_type": "code",
   "execution_count": null,
   "id": "488e1692",
   "metadata": {},
   "outputs": [],
   "source": [
    "t = M[:,0] # time axis in ps"
   ]
  },
  {
   "cell_type": "code",
   "execution_count": null,
   "id": "cfa86421",
   "metadata": {},
   "outputs": [],
   "source": [
    "# Initialize correlation arrays\n",
    "corr_vars = ['corr_k', 'corr_kNorm', 'corr_raw', 'corr_nCMk', 'corr_nCMkNorm', 'corr_nCMraw', \n",
    "             'corr_Longm', 'corr_LongmNorm', 'corr_Longmraw', 'corr_Tram', 'corr_TramNorm', \n",
    "             'corr_Tramraw', 'corr_mm', 'corr_mmNorm', 'corr_mmraw']\n",
    "\n",
    "corr = {var: np.zeros((k_mod.size, totConf if 'raw' not in var else 2*totConf - 1), dtype=np.complex_) for var in corr_vars}\n",
    "\n",
    "# calculate correlation functions at each wavevectors (kx,ky,kz) \n",
    "for j in range(k_mod.size):\n",
    "    # nCM correlation \n",
    "    corr['corr_nCMraw'][j, :] = signal.correlate(nCM_kt[j, :], nCM_kt[j, :], mode='full', method='fft')\n",
    "    corr['corr_nCMk'][j, :] = corr['corr_nCMraw'][j, totConf-1:] / (totConf - np.arange(totConf))\n",
    "    \n",
    "    # m_ktLongm correlation\n",
    "    corr['corr_Longmraw'][j, :] = signal.correlate(m_ktLongm[j, :], m_ktLongm[j, :], mode='full', method='fft')\n",
    "    corr['corr_Longm'][j, :] = corr['corr_Longmraw'][j, totConf-1:] / (totConf - np.arange(totConf))\n",
    "    \n",
    "    # m_ktTram correlation \n",
    "    for axis in range(3):\n",
    "        corr['corr_Tramraw'][j, :] += signal.correlate(m_ktTram[j, axis, :], m_ktTram[j, axis, :], mode='full', method='fft')\n",
    "    corr['corr_Tram'][j, :] = corr['corr_Tramraw'][j, totConf-1:] / (totConf - np.arange(totConf))\n",
    "    \n",
    "    # mm correlation \n",
    "    for axis in range(3):\n",
    "        corr['corr_mmraw'][j, :] += signal.correlate(mm_kt[j, axis, :], mm_kt[j, axis, :], mode='full', method='fft')\n",
    "    corr['corr_mm'][j, :] = corr['corr_mmraw'][j, totConf-1:] / (totConf - np.arange(totConf))"
   ]
  },
  {
   "cell_type": "code",
   "execution_count": null,
   "id": "475b50f7",
   "metadata": {},
   "outputs": [],
   "source": [
    "# Initialize averaged correlation arrays\n",
    "corr_averages = {name: np.zeros((k_mod.size, totConf)) for name in ['corr_kaverage', 'corr_nCMkaverage', \n",
    "                                                                    'corr_Longmaverage', 'corr_Tramaverage', \n",
    "                                                                    'corr_mmaverage']}\n",
    "\n",
    "# Counting the number of wavectors with the same magnitude within the specified tollerance of 1.8\n",
    "for i in range(k_mod.size):\n",
    "    norm_factor = np.count_nonzero(k_mod_eq[1:, i])\n",
    "    if norm_factor==0:\n",
    "        norm_factor=1\n",
    "    # Calculate averaged correlations over different wavector direction with the same magnitude within a tollerance of 1.8 \n",
    "    corr_averages['corr_nCMkaverage'][i, :] = np.dot(k_mod_eq[1:, i], corr_nCMk[1:, :]).real / norm_factor\n",
    "    corr_averages['corr_Longmaverage'][i, :] = np.dot(k_mod_eq[1:, i], corr_Longm[1:, :]).real / norm_factor\n",
    "    corr_averages['corr_Tramaverage'][i, :] = np.dot(k_mod_eq[1:, i], corr_Tram[1:, :]).real / norm_factor\n",
    "    corr_averages['corr_mmaverage'][i, :] = np.dot(k_mod_eq[1:, i], corr_mm[1:, :]).real / norm_factor\n"
   ]
  },
  {
   "cell_type": "code",
   "execution_count": null,
   "id": "5f3fea18",
   "metadata": {},
   "outputs": [],
   "source": [
    "# Calculate averaged k_mod values\n",
    "k_modaverage = np.sum(k_mod[:, None] * k_mod_eq, axis=0) / np.count_nonzero(k_mod_eq, axis=0)"
   ]
  },
  {
   "cell_type": "code",
   "execution_count": null,
   "id": "41764f46",
   "metadata": {},
   "outputs": [],
   "source": [
    "# Initialize arrays in a compact form using a dictionary \n",
    "corr_averageOrd = {key: np.zeros((k_mod.size, totConf, 2)) for key in ['corr_kaverageOrd', 'corr_nCMkaverageOrd', 'corr_LongmaverageOrd', 'corr_TramaverageOrd', 'corr_mmaverageOrd']}"
   ]
  },
  {
   "cell_type": "code",
   "execution_count": null,
   "id": "d8d92537",
   "metadata": {},
   "outputs": [],
   "source": [
    "# Store the arrays in a dictionary \n",
    "corr_dict = {\n",
    "    'corr_kaverageOrd': corr_kaverageOrd,\n",
    "    'corr_nCMkaverageOrd': corr_nCMkaverageOrd,\n",
    "    'corr_LongmaverageOrd': corr_LongmaverageOrd,\n",
    "    'corr_TramaverageOrd': corr_TramaverageOrd,\n",
    "    'corr_mmaverageOrd': corr_mmaverageOrd\n",
    "}\n",
    "\n",
    "# Assign k_modaverage to the first column of each average array\n",
    "for i in range(totConf):\n",
    "    for key in corr_dict:\n",
    "        corr_dict[key][:, i, 0] = k_modaverage\n",
    "\n",
    "# Assign the average values to the second column of each average array\n",
    "for key, values in zip(corr_dict.keys(), [corr_kaverage, corr_nCMkaverage, corr_Longmaverage, corr_Tramaverage, corr_mmaverage]):\n",
    "    corr_dict[key][:, :, 1] = values"
   ]
  },
  {
   "cell_type": "code",
   "execution_count": null,
   "id": "6ac8d46f",
   "metadata": {},
   "outputs": [],
   "source": [
    "# List of correlation average arrays\n",
    "corr_arrays = [\n",
    "    'corr_kaverageOrd',\n",
    "    'corr_nCMkaverageOrd',\n",
    "    'corr_LongmaverageOrd',\n",
    "    'corr_TramaverageOrd',\n",
    "    'corr_mmaverageOrd'\n",
    "]\n",
    "\n",
    "# Use a loop to apply np.unique to each array\n",
    "for corr in corr_arrays:\n",
    "    globals()[corr] = np.unique(globals()[corr], axis=0)"
   ]
  },
  {
   "cell_type": "markdown",
   "id": "3468842d",
   "metadata": {},
   "source": [
    "### Compute $\\epsilon_{L(T)}(k)$, $S(k)$, $\\langle \\delta n \\delta P_{L\\hat{p}} \\rangle(k)$, $\\langle \\delta P_{L\\hat{p}}\\delta P_{T\\hat{p}}^2 \\rangle (k)$."
   ]
  },
  {
   "cell_type": "code",
   "execution_count": null,
   "id": "719a3e43",
   "metadata": {},
   "outputs": [],
   "source": [
    "factor = (10 * eAng_D)**2 / (kB * T * e_0 * V_mean * 3)  #pre-factors for dimensionless susceptibility\n",
    "factor_cross = (10 * eAng_D)**6 / ((kB * T)**3 * e_0**3 * V_mean**3 * 3**3)  \n",
    "chi_Longk = factor * np.var(c_kt, axis=1) / k_mod**2 #Non-local susceptibility longitudinal to the wavevector (kx,ky,kz)\n",
    "chi_Tramk = factor * np.sum([np.var(m_ktTra[:, i, :], axis=1) for i in range(3)], axis=0) #Non-local susceptibility orthogonal to the wavevector (kx,ky,kz)\n",
    "chi_nCMk = np.mean(np.abs(nCM_kt)**2, axis=1) / 1000  #Static structure factor (center of mass)\n",
    "chi_Longmmk = factor * np.mean(np.abs(m_ktLongm)**2, axis=1) #Non-local susceptibility longitudinal to the average total polarization vector\n",
    "chi_Trammk = factor * np.sum([np.mean(np.abs(m_ktTram[:, i, :])**2, axis=1) for i in range(3)], axis=0) #Non-local susceptibility orthogonal to the average total polarization vector\n",
    "chi_nCMLongmmk = factor * np.mean(np.abs(m_ktLongm * np.conj(nCM_kt))**2, axis=1) / 1000 #Static correlation between density fluctuations and polarization fluctuations longitudinal to the average total polarization vector\n",
    "chi_LongTrammk = factor_cross * np.mean(np.abs(np.sum(m_ktTram**2, axis=1) * np.conj(m_ktLongm))**2, axis=1) #Static correlation between longitudinal polarization fluctuations and the square of the fluctuations orthogonal to the average polarization vector"
   ]
  },
  {
   "cell_type": "code",
   "execution_count": null,
   "id": "b709ec98",
   "metadata": {},
   "outputs": [],
   "source": [
    "chi_vars = [\n",
    "    'chi_Longk', 'chi_nCMk', 'chi_Tramk', 'chi_Longmmk', \n",
    "    'chi_Trammk', 'chi_mmk', 'chi_nCMLongmmk', 'chi_LongTrammk', 'k_mod'\n",
    "]\n",
    "#\n",
    "# Initialize arrays to store averages for each variable\n",
    "chi_avgs = {var: np.zeros(nCM_kt[:, 0].size) for var in chi_vars}\n",
    "\n",
    "#Averaging along different directions of wavevectors with the same magnitude, with a tolerance of 1.8\n",
    "for i in range(nCM_kt[:, 0].size):\n",
    "    nonzero_count = np.count_nonzero(k_mod_eq[1:, i]) \n",
    "    if nonzero_count==0:\n",
    "        nonzero_count=1\n",
    "    for var in chi_vars:\n",
    "        chi_avgs[var][i] = np.sum(eval(var)[1:] * k_mod_eq[1:, i]) / nonzero_count"
   ]
  },
  {
   "cell_type": "code",
   "execution_count": null,
   "id": "86900e3d",
   "metadata": {},
   "outputs": [],
   "source": [
    "ordered_averages = {\n",
    "    'chi_LongkaverageOrd': np.zeros((chi_Longkaverage.size, 2)),\n",
    "    'chi_nCMkaverageOrd': np.zeros((chi_Longmmkaverage.size, 2)),\n",
    "    'chi_TramkaverageOrd': np.zeros((chi_Longmmkaverage.size, 2)),\n",
    "    'chi_LongmmkaverageOrd': np.zeros((chi_Longmmkaverage.size, 2)),\n",
    "    'chi_TrammkaverageOrd': np.zeros((chi_Trammkaverage.size, 2)),\n",
    "    'chi_nCMLongmmkaverageOrd': np.zeros((chi_nCMLongmmkaverage.size, 2)),\n",
    "    'chi_LongTrammkaverageOrd': np.zeros((chi_LongTrammkaverage.size, 2))\n",
    "}"
   ]
  },
  {
   "cell_type": "code",
   "execution_count": null,
   "id": "dcaa7efb",
   "metadata": {},
   "outputs": [],
   "source": [
    "average_pairs = [\n",
    "    ('chi_LongkaverageOrd', chi_Longkaverage),\n",
    "    ('chi_nCMkaverageOrd', chi_nCMkaverage),\n",
    "    ('chi_TramkaverageOrd', chi_Tramkaverage),\n",
    "    ('chi_LongmmkaverageOrd', chi_Longmmkaverage),\n",
    "    ('chi_TrammkaverageOrd', chi_Trammkaverage),\n",
    "    ('chi_nCMLongmmkaverageOrd', chi_nCMLongmmkaverage),\n",
    "    ('chi_LongTrammkaverageOrd', chi_LongTrammkaverage)\n",
    "]\n",
    "\n",
    "for var_name, avg_array in average_pairs:\n",
    "    ordered_averages[var_name][:, 0] = k_modaverage  \n",
    "    ordered_averages[var_name][:, 1] = avg_array     "
   ]
  },
  {
   "cell_type": "code",
   "execution_count": null,
   "id": "d2c41a0c",
   "metadata": {},
   "outputs": [],
   "source": [
    "ordered_averages = [\n",
    "    chi_LongkaverageOrd, chi_nCMkaverageOrd, chi_TramkaverageOrd, \n",
    "    chi_LongmmkaverageOrd, chi_TrammkaverageOrd, \n",
    "    chi_nCMLongmmkaverageOrd, chi_LongTrammkaverageOrd\n",
    "]\n",
    "\n",
    "#Remove duplicates and sort by increasing values of the magnitude of the wavevector\n",
    "ordered_averages = [np.unique(arr, axis=0) for arr in ordered_averages]"
   ]
  },
  {
   "cell_type": "code",
   "execution_count": null,
   "id": "7b257db9",
   "metadata": {},
   "outputs": [],
   "source": [
    "epsilon_Longk=1/(1-chi_LongkaverageOrd[1:,1]) #static dielectric function longitudinal to the wavevector (kx,ky,kz)\n",
    "epsilon_Tramk=1+chi_TramkaverageOrd[1:,1] #static dielectric function orthogonal to the wavevector (kx,ky,kz)"
   ]
  }
 ],
 "metadata": {
  "kernelspec": {
   "display_name": "Python 3 (ipykernel)",
   "language": "python",
   "name": "python3"
  },
  "language_info": {
   "codemirror_mode": {
    "name": "ipython",
    "version": 3
   },
   "file_extension": ".py",
   "mimetype": "text/x-python",
   "name": "python",
   "nbconvert_exporter": "python",
   "pygments_lexer": "ipython3",
   "version": "3.11.5"
  }
 },
 "nbformat": 4,
 "nbformat_minor": 5
}
